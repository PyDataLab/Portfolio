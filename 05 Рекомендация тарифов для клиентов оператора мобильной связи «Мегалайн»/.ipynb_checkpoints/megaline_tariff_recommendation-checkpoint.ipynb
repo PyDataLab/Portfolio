{
 "cells": [
  {
   "cell_type": "markdown",
   "id": "5bd1c00d",
   "metadata": {},
   "source": [
    "# Рекомендация тарифов"
   ]
  },
  {
   "cell_type": "markdown",
   "id": "e7cf4a17",
   "metadata": {},
   "source": [
    "В вашем распоряжении данные о поведении клиентов, которые уже перешли на эти тарифы (из проекта курса «Статистический анализ данных»). Нужно построить модель для задачи классификации, которая выберет подходящий тариф. Предобработка данных не понадобится — вы её уже сделали.\n",
    "\n",
    "Постройте модель с максимально большим значением *accuracy*. Чтобы сдать проект успешно, нужно довести долю правильных ответов по крайней мере до 0.75. Проверьте *accuracy* на тестовой выборке самостоятельно."
   ]
  },
  {
   "cell_type": "markdown",
   "id": "614e6839",
   "metadata": {},
   "source": [
    "Название проекта: рекомендация тарифов.<br>\n",
    "Цель: построить модель с максимально большим значением accuracy.<br>\n",
    "Задачи исследования: выбрать наиболее подходящую модель и проверить на адекватность.<br>\n",
    "Итоги: модель RandomForestClassifier имеет самый высокий показатель accuracy 0.80248833592535 и прошла тест на адекватность.<br>"
   ]
  },
  {
   "cell_type": "markdown",
   "id": "5bea0167",
   "metadata": {},
   "source": [
    "## Откройте и изучите файл"
   ]
  },
  {
   "cell_type": "code",
   "execution_count": 1,
   "id": "f2e12a00",
   "metadata": {},
   "outputs": [],
   "source": [
    "import pandas as pd\n",
    "from sklearn.model_selection import train_test_split\n",
    "from sklearn.tree import DecisionTreeClassifier\n",
    "from sklearn.ensemble import RandomForestClassifier\n",
    "from sklearn.linear_model import LogisticRegression\n",
    "from sklearn.dummy import DummyClassifier\n",
    "from sklearn.metrics import accuracy_score\n",
    "from tqdm import tqdm"
   ]
  },
  {
   "cell_type": "code",
   "execution_count": 2,
   "id": "925b7c47",
   "metadata": {},
   "outputs": [
    {
     "name": "stdout",
     "output_type": "stream",
     "text": [
      "   calls  minutes  messages   mb_used  is_ultra\n",
      "0   40.0   311.90      83.0  19915.42         0\n",
      "1   85.0   516.75      56.0  22696.96         0\n",
      "2   77.0   467.66      86.0  21060.45         0\n",
      "3  106.0   745.53      81.0   8437.39         1\n",
      "4   66.0   418.74       1.0  14502.75         0\n",
      "5   58.0   344.56      21.0  15823.37         0\n",
      "6   57.0   431.64      20.0   3738.90         1\n",
      "7   15.0   132.40       6.0  21911.60         0\n",
      "8    7.0    43.39       3.0   2538.67         1\n",
      "9   90.0   665.41      38.0  17358.61         0\n",
      "<class 'pandas.core.frame.DataFrame'>\n",
      "RangeIndex: 3214 entries, 0 to 3213\n",
      "Data columns (total 5 columns):\n",
      " #   Column    Non-Null Count  Dtype  \n",
      "---  ------    --------------  -----  \n",
      " 0   calls     3214 non-null   float64\n",
      " 1   minutes   3214 non-null   float64\n",
      " 2   messages  3214 non-null   float64\n",
      " 3   mb_used   3214 non-null   float64\n",
      " 4   is_ultra  3214 non-null   int64  \n",
      "dtypes: float64(4), int64(1)\n",
      "memory usage: 125.7 KB\n",
      "None\n",
      "             calls      minutes     messages       mb_used     is_ultra\n",
      "count  3214.000000  3214.000000  3214.000000   3214.000000  3214.000000\n",
      "mean     63.038892   438.208787    38.281269  17207.673836     0.306472\n",
      "std      33.236368   234.569872    36.148326   7570.968246     0.461100\n",
      "min       0.000000     0.000000     0.000000      0.000000     0.000000\n",
      "25%      40.000000   274.575000     9.000000  12491.902500     0.000000\n",
      "50%      62.000000   430.600000    30.000000  16943.235000     0.000000\n",
      "75%      82.000000   571.927500    57.000000  21424.700000     1.000000\n",
      "max     244.000000  1632.060000   224.000000  49745.730000     1.000000\n"
     ]
    }
   ],
   "source": [
    "df = pd.read_csv('/datasets/users_behavior.csv')\n",
    "print(df.head(10))\n",
    "print(df.info())\n",
    "print(df.describe())"
   ]
  },
  {
   "cell_type": "markdown",
   "id": "7cfba257",
   "metadata": {},
   "source": [
    "<div class=\"alert alert-block alert-info\">\n",
    "<b>КОММЕНТАРИЙ СТУДЕНТА:</b><br>\n",
    "    \n",
    "- Приведем тип данных в столбцах calls и messages к int64 и проверим данные на явные дубликаты.\n",
    "</div>"
   ]
  },
  {
   "cell_type": "code",
   "execution_count": 3,
   "id": "2bff251f",
   "metadata": {},
   "outputs": [
    {
     "data": {
      "text/plain": [
       "0"
      ]
     },
     "execution_count": 3,
     "metadata": {},
     "output_type": "execute_result"
    }
   ],
   "source": [
    "df['calls'] = df['calls'].astype('int')\n",
    "df['messages'] = df['messages'].astype('int')\n",
    "df.duplicated().sum()"
   ]
  },
  {
   "cell_type": "markdown",
   "id": "efd2054b",
   "metadata": {},
   "source": [
    "## Разбейте данные на выборки"
   ]
  },
  {
   "cell_type": "code",
   "execution_count": 4,
   "id": "bf326449",
   "metadata": {},
   "outputs": [
    {
     "name": "stdout",
     "output_type": "stream",
     "text": [
      "(1928, 4)\n",
      "(1928,)\n",
      "(643, 4)\n",
      "(643,)\n",
      "(643, 4)\n",
      "(643,)\n"
     ]
    }
   ],
   "source": [
    "features = df.drop(['is_ultra'], axis=1)\n",
    "target = df['is_ultra']\n",
    "features_train, features_test, target_train, target_test = train_test_split(features, \n",
    "                                                                            target, \n",
    "                                                                            test_size=0.4, \n",
    "                                                                            random_state=12345\n",
    "                                                                           ) \n",
    "features_valid, features_test, target_valid, target_test = train_test_split(features_test, \n",
    "                                                                            target_test, \n",
    "                                                                            test_size=0.5, \n",
    "                                                                            random_state=12345\n",
    "                                                                           )\n",
    "print(features_train.shape)\n",
    "print(target_train.shape)\n",
    "print(features_valid.shape)\n",
    "print(target_valid.shape)\n",
    "print(features_test.shape)\n",
    "print(target_test.shape)"
   ]
  },
  {
   "cell_type": "markdown",
   "id": "e067af64",
   "metadata": {},
   "source": [
    "<div class=\"alert alert-block alert-info\">\n",
    "<b>КОММЕНТАРИЙ СТУДЕНТА:</b><br>\n",
    "    \n",
    "- Размер обучающей выборки - 1928 объектов\n",
    "- Размер валидационной выборки - 643 объекта\n",
    "- Размер тестовой выборки - 643 объекта\n",
    "</div>"
   ]
  },
  {
   "cell_type": "markdown",
   "id": "a290a8e0",
   "metadata": {},
   "source": [
    "## Исследуйте модели"
   ]
  },
  {
   "cell_type": "code",
   "execution_count": 5,
   "id": "3fa96086",
   "metadata": {},
   "outputs": [
    {
     "name": "stdout",
     "output_type": "stream",
     "text": [
      "max_depth = 1 : 0.7542768273716952\n",
      "max_depth = 2 : 0.7822706065318819\n",
      "max_depth = 3 : 0.7853810264385692\n",
      "max_depth = 4 : 0.7791601866251944\n",
      "max_depth = 5 : 0.7791601866251944\n"
     ]
    }
   ],
   "source": [
    "for depth in range(1, 6):\n",
    "    model = DecisionTreeClassifier(max_depth=depth, random_state=12345)\n",
    "    model.fit(features_train,target_train)\n",
    "    predictions_valid = model.predict(features_valid)\n",
    "\n",
    "    print(\"max_depth =\", depth, \": \", end='')\n",
    "    print(accuracy_score(target_valid, predictions_valid))"
   ]
  },
  {
   "cell_type": "markdown",
   "id": "9af76271",
   "metadata": {},
   "source": [
    "<div class=\"alert alert-block alert-info\">\n",
    "<b>КОММЕНТАРИЙ СТУДЕНТА:</b><br>\n",
    "    \n",
    "- Модель решающее дерево\n",
    "- Наилучшее качество достигается при max_depth = 3 : 0.7853810264385692 \n",
    "</div>"
   ]
  },
  {
   "cell_type": "code",
   "execution_count": 6,
   "id": "f0d037c1",
   "metadata": {},
   "outputs": [
    {
     "name": "stderr",
     "output_type": "stream",
     "text": [
      "100%|██████████| 10/10 [00:01<00:00,  6.18it/s]"
     ]
    },
    {
     "name": "stdout",
     "output_type": "stream",
     "text": [
      "best n_estimators = 8 ;  best max_depth = 8 ;  best Accuracy =  0.80248833592535"
     ]
    },
    {
     "name": "stderr",
     "output_type": "stream",
     "text": [
      "\n"
     ]
    }
   ],
   "source": [
    "best_model_rfc = None\n",
    "best_est_rfc = 0\n",
    "best_depth_rfc = 0\n",
    "best_result_rfc = 0\n",
    "for est in tqdm(range(1, 11)):\n",
    "    for depth in range(1, 11):\n",
    "        model_rfc = RandomForestClassifier(random_state=12345, n_estimators=est, max_depth = depth).fit(features_train, target_train)\n",
    "        predictions_valid_rfc = model_rfc.predict(features_valid)\n",
    "        result_rfc = accuracy_score(predictions_valid_rfc, target_valid)\n",
    "        if best_result_rfc < result_rfc:\n",
    "            best_model_rfc = model_rfc\n",
    "            best_est_rfc = est\n",
    "            best_depth_rfc = depth\n",
    "            best_result_rfc = result_rfc\n",
    "print('best n_estimators =', \n",
    "      best_est_rfc, \n",
    "      '; ', \n",
    "      'best max_depth =', \n",
    "      best_depth_rfc, \n",
    "      '; ', \n",
    "      'best Accuracy = ', \n",
    "      best_result_rfc, \n",
    "      end =''\n",
    "     ) "
   ]
  },
  {
   "cell_type": "markdown",
   "id": "9ee21d51",
   "metadata": {},
   "source": [
    "<div class=\"alert alert-block alert-info\">\n",
    "<b>КОММЕНТАРИЙ СТУДЕНТА:</b><br>\n",
    "    \n",
    "- Модель случайный лес\n",
    "- Accuracy = 0.80248833592535\n",
    "</div>"
   ]
  },
  {
   "cell_type": "code",
   "execution_count": 7,
   "id": "001f0ce6",
   "metadata": {},
   "outputs": [
    {
     "name": "stdout",
     "output_type": "stream",
     "text": [
      "Accuracy LogisticRegression: 0.7107309486780715"
     ]
    }
   ],
   "source": [
    "model = LogisticRegression(random_state=12345).fit(features_train, target_train)\n",
    "predictions_valid_lr = model.predict(features_valid)\n",
    "accuracy_lr = accuracy_score(predictions_valid_lr, target_valid)\n",
    "print('Accuracy LogisticRegression:', accuracy_lr, end ='')"
   ]
  },
  {
   "cell_type": "markdown",
   "id": "0f4ac907",
   "metadata": {},
   "source": [
    "<div class=\"alert alert-block alert-info\">\n",
    "<b>КОММЕНТАРИЙ СТУДЕНТА:</b><br>\n",
    "    \n",
    "- Модель логистическая регрессия\n",
    "- Accuracy = 0.7107309486780715\n",
    "</div>"
   ]
  },
  {
   "cell_type": "markdown",
   "id": "24aa50fc",
   "metadata": {},
   "source": [
    "<div class=\"alert alert-block alert-info\">\n",
    "<b>КОММЕНТАРИЙ СТУДЕНТА:</b><br>\n",
    "    <b>Вывод:</b><br>\n",
    "    \n",
    "- наилучший результат Accuracy у модели решающего дерева - DecisionTreeClassifier - Accuracy равен 0.7853810264385692\n",
    "- наилучший результат Accuracy у модели случайного леса - RandomForestClassifier - 0.80248833592535\n",
    "- результат Accuracy у модели логистической регрессии - LogisticRegression - 0.7107309486780715\n",
    "- наиболее высокий показатель Accuracy из всех трёх моделей у модели случайного леса - RandomForestClassifier - 0.80248833592535\n",
    "</div>"
   ]
  },
  {
   "cell_type": "markdown",
   "id": "29a3a831",
   "metadata": {},
   "source": [
    "## Проверьте модель на тестовой выборке"
   ]
  },
  {
   "cell_type": "code",
   "execution_count": 8,
   "id": "f635f597",
   "metadata": {},
   "outputs": [
    {
     "name": "stdout",
     "output_type": "stream",
     "text": [
      "Accuracy RandomForestClassifier: 0.7962674961119751\n"
     ]
    }
   ],
   "source": [
    "model = RandomForestClassifier(random_state=12345, n_estimators = 8, max_depth = 8).fit(features_train, target_train)\n",
    "predictions_test = model.predict(features_test)\n",
    "result_test = accuracy_score(predictions_test, target_test)\n",
    "print('Accuracy RandomForestClassifier:', result_test)"
   ]
  },
  {
   "cell_type": "markdown",
   "id": "48cd934d",
   "metadata": {},
   "source": [
    "<div class=\"alert alert-block alert-info\">\n",
    "<b>КОММЕНТАРИЙ СТУДЕНТА:</b><br>\n",
    "    <b>Вывод:</b>\n",
    "    \n",
    "- Accuracy у модели случайного леса - RandomForestClassifier на тестовой выборке равна 0.7962674961119751   \n",
    "</div>"
   ]
  },
  {
   "cell_type": "markdown",
   "id": "a0fc9b5e",
   "metadata": {},
   "source": [
    "## (бонус) Проверьте модели на адекватность"
   ]
  },
  {
   "cell_type": "code",
   "execution_count": 9,
   "id": "d4218931",
   "metadata": {},
   "outputs": [
    {
     "name": "stdout",
     "output_type": "stream",
     "text": [
      "Accuracy DummyClassifier: 0.7060653188180405\n",
      "Accuracy RandomForestClassifier: 0.7962674961119751\n"
     ]
    }
   ],
   "source": [
    "model_dc = DummyClassifier(strategy='most_frequent', random_state=12345)\n",
    "model_dc.fit(features_train, target_train)\n",
    "result_dc = model_dc.score(features_valid, target_valid)\n",
    "print('Accuracy DummyClassifier:', result_dc)\n",
    "print('Accuracy RandomForestClassifier:', result_test)"
   ]
  },
  {
   "cell_type": "markdown",
   "id": "107731f0",
   "metadata": {},
   "source": [
    "<div class=\"alert alert-block alert-info\">\n",
    "<b>КОММЕНТАРИЙ СТУДЕНТА:</b><br>\n",
    "    <b>Вывод:</b>\n",
    "    \n",
    "- Accuracy модели DummyClassifier ниже, чем у модели RandomForestClassifier - значит модель адекватна\n",
    "</div>"
   ]
  },
  {
   "cell_type": "markdown",
   "id": "618952b2",
   "metadata": {},
   "source": [
    "<div class=\"alert alert-block alert-info\">\n",
    "<b>КОММЕНТАРИЙ СТУДЕНТА:</b><br>\n",
    "    <b>Общий вывод:</b><br>\n",
    "    \n",
    "- Изменили тип данных в столбцах calls и messages к int64 и проверим данные на явные дубликаты\n",
    "- Разбили данные на обучающую, валидационную и тестовую выборки в соотношении 60%-20%-20%\n",
    "- Исследовали модели и обнаружили, что наиболее высокий показатель accuracy(качество) из всех трёх моделей у модели случайного леса - RandomForestClassifier - 0.80248833592535 с гиперпараметрами n_estimators равным - 8 и max_depth равным 8\n",
    "- Проверили качество модели RandomForestClassifier на тестовой выборке и получили результат accuracy - 0.796267496111975\n",
    "- Проверили модель RandomForestClassifier на вменяемость с помощью модели DummyClassifier, которая показала результат Accuracy - 0.7060653188180405 - что меньше, чем у модели RandomForestClassifier, а значит модель адекватна\n",
    "</div>"
   ]
  },
  {
   "cell_type": "code",
   "execution_count": null,
   "id": "c2229a2f",
   "metadata": {},
   "outputs": [],
   "source": []
  }
 ],
 "metadata": {
  "ExecuteTimeLog": [
   {
    "duration": 1075,
    "start_time": "2023-02-03T14:18:46.857Z"
   },
   {
    "duration": 95,
    "start_time": "2023-02-03T14:18:47.934Z"
   },
   {
    "duration": 12,
    "start_time": "2023-02-03T14:18:48.030Z"
   },
   {
    "duration": 9,
    "start_time": "2023-02-03T14:18:48.044Z"
   },
   {
    "duration": 32,
    "start_time": "2023-02-03T14:18:48.054Z"
   },
   {
    "duration": 1627,
    "start_time": "2023-02-03T14:18:48.088Z"
   },
   {
    "duration": 33,
    "start_time": "2023-02-03T14:18:49.717Z"
   },
   {
    "duration": 32,
    "start_time": "2023-02-03T14:18:49.751Z"
   },
   {
    "duration": 5,
    "start_time": "2023-02-03T14:18:49.784Z"
   }
  ],
  "kernelspec": {
   "display_name": "Python 3 (ipykernel)",
   "language": "python",
   "name": "python3"
  },
  "language_info": {
   "codemirror_mode": {
    "name": "ipython",
    "version": 3
   },
   "file_extension": ".py",
   "mimetype": "text/x-python",
   "name": "python",
   "nbconvert_exporter": "python",
   "pygments_lexer": "ipython3",
   "version": "3.11.3"
  },
  "toc": {
   "base_numbering": 1,
   "nav_menu": {},
   "number_sections": true,
   "sideBar": true,
   "skip_h1_title": true,
   "title_cell": "Table of Contents",
   "title_sidebar": "Contents",
   "toc_cell": false,
   "toc_position": {},
   "toc_section_display": true,
   "toc_window_display": false
  }
 },
 "nbformat": 4,
 "nbformat_minor": 5
}

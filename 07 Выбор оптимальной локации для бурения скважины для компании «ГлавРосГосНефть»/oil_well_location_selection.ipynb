{
 "cells": [
  {
   "cell_type": "markdown",
   "id": "57c48a34",
   "metadata": {},
   "source": [
    "# Выбор локации для скважины"
   ]
  },
  {
   "cell_type": "markdown",
   "id": "383360a7",
   "metadata": {},
   "source": [
    "Допустим, я работаю в добывающей компании «ГлавРосГосНефть». Мне нужно решить, где бурить новую скважину.\n",
    "\n",
    "Мне предоставили пробы нефти в трёх регионах: в каждом 10 000 месторождений, где измерили качество нефти и объём её запасов. Я построил модель машинного обучения, которая помогла определить регион, где добыча принесёт наибольшую прибыль. Я проанализировал возможную прибыль и риски техникой *Bootstrap.*\n",
    "\n",
    "Шаги для выбора локации:\n",
    "\n",
    "- В избранном регионе я искал месторождения, для каждого определял значения признаков;\n",
    "- Я построил модель и оценил объём запасов;\n",
    "- Я выбрал месторождения с самыми высокими оценками значений. Количество месторождений зависело от бюджета компании и стоимости разработки одной скважины;\n",
    "- Прибыль равна суммарной прибыли отобранных месторождений."
   ]
  },
  {
   "cell_type": "markdown",
   "id": "6a1e34d3",
   "metadata": {},
   "source": [
    "## Загрузка и подготовка данных"
   ]
  },
  {
   "cell_type": "code",
   "execution_count": 1,
   "id": "60d00a9f",
   "metadata": {},
   "outputs": [],
   "source": [
    "# Я импортировал библиотеки.\n",
    "import pandas as pd\n",
    "from sklearn.model_selection import train_test_split\n",
    "from sklearn.linear_model import LinearRegression\n",
    "from sklearn.metrics import mean_absolute_error\n",
    "import math\n",
    "import numpy as np\n",
    "import matplotlib.pyplot as plt\n",
    "from scipy import stats as st\n",
    "from sklearn.metrics import mean_squared_error"
   ]
  },
  {
   "cell_type": "code",
   "execution_count": 2,
   "id": "321ade81",
   "metadata": {},
   "outputs": [],
   "source": [
    "# Я прочитал данные из файлов.\n",
    "data_0 = pd.read_csv(\"../datasets/geo_data_0.csv\")\n",
    "data_1 = pd.read_csv(\"../datasets/geo_data_1.csv\")\n",
    "data_2 = pd.read_csv(\"../datasets/geo_data_2.csv\")"
   ]
  },
  {
   "cell_type": "code",
   "execution_count": 3,
   "id": "67448a59",
   "metadata": {},
   "outputs": [
    {
     "name": "stdout",
     "output_type": "stream",
     "text": [
      "id         0\n",
      "f0         0\n",
      "f1         0\n",
      "f2         0\n",
      "product    0\n",
      "dtype: int64\n",
      "id         0\n",
      "f0         0\n",
      "f1         0\n",
      "f2         0\n",
      "product    0\n",
      "dtype: int64\n",
      "id         0\n",
      "f0         0\n",
      "f1         0\n",
      "f2         0\n",
      "product    0\n",
      "dtype: int64\n",
      "<class 'pandas.core.frame.DataFrame'>\n",
      "RangeIndex: 100000 entries, 0 to 99999\n",
      "Data columns (total 5 columns):\n",
      " #   Column   Non-Null Count   Dtype  \n",
      "---  ------   --------------   -----  \n",
      " 0   id       100000 non-null  object \n",
      " 1   f0       100000 non-null  float64\n",
      " 2   f1       100000 non-null  float64\n",
      " 3   f2       100000 non-null  float64\n",
      " 4   product  100000 non-null  float64\n",
      "dtypes: float64(4), object(1)\n",
      "memory usage: 3.8+ MB\n",
      "None\n",
      "0        0.705745\n",
      "1        1.334711\n",
      "2        1.022732\n",
      "3       -0.032172\n",
      "4        1.988431\n",
      "           ...   \n",
      "99995    0.971957\n",
      "99996    1.392429\n",
      "99997    1.029585\n",
      "99998    0.998163\n",
      "99999    1.764754\n",
      "Name: f0, Length: 100000, dtype: float64\n",
      "0        105.280062\n",
      "1         73.037750\n",
      "2         85.265647\n",
      "3        168.620776\n",
      "4        154.036647\n",
      "            ...    \n",
      "99995    110.744026\n",
      "99996    122.346843\n",
      "99997     64.375443\n",
      "99998     74.040764\n",
      "99999    149.633246\n",
      "Name: product, Length: 100000, dtype: float64\n",
      "Empty DataFrame\n",
      "Columns: [id, f0, f1, f2, product]\n",
      "Index: []\n",
      "               f0        f1        f2   product\n",
      "f0       1.000000  0.085495 -0.000849 -0.030439\n",
      "f1       0.085495  1.000000  0.000002  0.137210\n",
      "f2      -0.000849  0.000002  1.000000  0.533554\n",
      "product -0.030439  0.137210  0.533554  1.000000\n"
     ]
    }
   ],
   "source": [
    "# Я искал пропущенные значения:\n",
    "print(data_0.isna().sum()) \n",
    "print(data_1.isnull().sum())\n",
    "print(data_2.isna().sum())\n",
    "# Преобразование типов данных не требовалось:\n",
    "print(data_0.info())\n",
    "print(data_0['f0'])\n",
    "print(data_0['product'])\n",
    "# Я искал дубликаты:\n",
    "data = pd.concat([data_0, data_1, data_2])\n",
    "duplicates = data[data.duplicated()]\n",
    "print(duplicates)\n",
    "# Я нашёл корреляционную матрицу и вывел её на экран.\n",
    "correlations = data.drop('id', axis=1).corr()\n",
    "print(correlations)"
   ]
  },
  {
   "cell_type": "markdown",
   "id": "647e6292",
   "metadata": {},
   "source": [
    "<div class=\"alert alert-block alert-info\">\n",
    "    \n",
    "**КОММЕНТАРИЙ СТУДЕНТА 2:**\n",
    "    \n",
    "**Вывод:**\n",
    "    \n",
    "- Я провёл проверку на пропущенные значения - пропущенных значений нет.\n",
    "- Преобразование типов данных не требовалось, так как у нас столбец id имеет строковый формат, а остальные значения float.    \n",
    "- Я провёл проверку на наличие дубликатов - дубликатов нет.\n",
    "- Я построил корреляционную матрицу и выяснил, что есть незначительная корреляция между столбцами product и f2 (0.533554), но в целом, сильной корреляции между значениями нет.\n",
    "     \n",
    "</div>"
   ]
  },
  {
   "cell_type": "markdown",
   "id": "3238ee28",
   "metadata": {},
   "source": [
    "## Обучение и проверка модели"
   ]
  },
  {
   "cell_type": "code",
   "execution_count": 4,
   "id": "27c35ae7",
   "metadata": {},
   "outputs": [],
   "source": [
    "def train_and_predict(data):\n",
    "    # Я разбиваю данные на обучающую и валидационную выборки\n",
    "    train_data, valid_data = train_test_split(data, test_size=0.25, random_state=12345)\n",
    "\n",
    "    # Я создаю объект линейной регрессии\n",
    "    model = LinearRegression()\n",
    "\n",
    "    # Я обучаю модель на обучающей выборке\n",
    "    features_train = train_data.drop(['id', 'product'], axis=1)\n",
    "    target_train = train_data['product']\n",
    "    model.fit(features_train, target_train)\n",
    "\n",
    "    # Я делаю предсказания на валидационной выборке\n",
    "    features_valid = valid_data.drop(['id', 'product'], axis=1)\n",
    "    target_valid = valid_data['product']\n",
    "    predictions = model.predict(features_valid)\n",
    "    \n",
    "    return features_train, target_train, features_valid, target_valid, predictions\n",
    "\n",
    "features_train_0, target_train_0, features_valid_0, target_valid_0, predictions_0 = train_and_predict(data_0)\n",
    "features_train_1, target_train_1, features_valid_1, target_valid_1, predictions_1 = train_and_predict(data_1)\n",
    "features_train_2, target_train_2, features_valid_2, target_valid_2, predictions_2 = train_and_predict(data_2)"
   ]
  },
  {
   "cell_type": "code",
   "execution_count": 5,
   "id": "ce10dfc8",
   "metadata": {},
   "outputs": [],
   "source": [
    "def region_analysis(data):\n",
    "    \"\"\"\n",
    "    Функция для анализа регионов.\n",
    "    Принимает на вход датафрейм с данными региона.\n",
    "    Возвращает средний запас предсказанного сырья и RMSE модели.\n",
    "    \"\"\"\n",
    "    # Я разбиваю данные на обучающую и валидационную выборки\n",
    "    train_data, valid_data = train_test_split(data, test_size=0.25, random_state=12345)\n",
    "\n",
    "    # Я создаю объект линейной регрессии\n",
    "    model = LinearRegression()\n",
    "\n",
    "    # Я обучаю модель на обучающей выборке\n",
    "    features_train = train_data.drop(['id', 'product'], axis=1)\n",
    "    target_train = train_data['product']\n",
    "    model.fit(features_train, target_train)\n",
    "\n",
    "    # Я делаю предсказания на валидационной выборке\n",
    "    features_valid = valid_data.drop(['id', 'product'], axis=1)\n",
    "    target_valid = valid_data['product']\n",
    "    predictions = model.predict(features_valid)\n",
    "\n",
    "    # Я сохраняю предсказания и правильные ответы на валидационной выборке\n",
    "    valid_data['predicted_product'] = predictions\n",
    "    valid_predictions = valid_data[['id', 'predicted_product']]\n",
    "\n",
    "    # Я рассчитываю средний запас предсказанного сырья и RMSE модели\n",
    "    mean_predicted_product = valid_predictions['predicted_product'].mean()\n",
    "    rmse = math.sqrt(mean_squared_error(target_valid, predictions))\n",
    "\n",
    "    print('Средний запас предсказанного сырья:', round(mean_predicted_product,2), 'тыс.баррелей')\n",
    "    print('RMSE модели:', rmse)"
   ]
  },
  {
   "cell_type": "code",
   "execution_count": 6,
   "id": "32347400",
   "metadata": {},
   "outputs": [
    {
     "name": "stdout",
     "output_type": "stream",
     "text": [
      "Регион 0:\n",
      "Средний запас предсказанного сырья: 92.59 тыс.баррелей\n",
      "RMSE модели: 37.5794217150813\n",
      "Регион 1:\n",
      "Средний запас предсказанного сырья: 68.73 тыс.баррелей\n",
      "RMSE модели: 0.8930992867756167\n",
      "Регион 2:\n",
      "Средний запас предсказанного сырья: 94.97 тыс.баррелей\n",
      "RMSE модели: 40.02970873393434\n"
     ]
    }
   ],
   "source": [
    "print('Регион 0:')\n",
    "region_analysis(data_0)\n",
    "\n",
    "print('Регион 1:')\n",
    "region_analysis(data_1)\n",
    "\n",
    "print('Регион 2:')\n",
    "region_analysis(data_2)"
   ]
  },
  {
   "cell_type": "markdown",
   "id": "c3cc1c80",
   "metadata": {},
   "source": [
    "<div class=\"alert alert-block alert-info\">\n",
    "    \n",
    "**КОММЕНТАРИЙ СТУДЕНТА 2:**\n",
    "    \n",
    "**Вывод:**\n",
    "    \n",
    "- Я написал функцию для анализа регионов region_analysis, которая на вход принимает датафрейм с данными региона, а возвращает средний запас предсказанного сырья и RMSE модели.\n",
    "- Я подставил в функцию region_analysis данные для разных регионов data_0, data_1, data_2 и получил для каждого региона средний запас предсказанного сырья и RMSE модели.\n",
    "- Я выяснил, что средний запас предсказанного сырья больше всего в Регионе 2 (94.97 тыс.баррелей).\n",
    "- RMSE модели наименьшее в Регионе 0 (0.8478008281503834), что свидетельствует о высокой точности модели в данном регионе.       \n",
    " \n",
    "</div>"
   ]
  },
  {
   "cell_type": "markdown",
   "id": "22347eb0",
   "metadata": {},
   "source": [
    "<div class=\"alert alert-block alert-info\">\n",
    "\n",
    "**КОММЕНТАРИЙ СТУДЕНТА 3:**\n",
    "    \n",
    "**Вывод:**\n",
    "    \n",
    "- RMSE модели наименьшее в Регионе 1 (0.8930992867756178), что свидетельствует о высокой точности модели в данном регионе.       \n",
    "     \n",
    "</div>"
   ]
  },
  {
   "cell_type": "markdown",
   "id": "3caa9a2f",
   "metadata": {},
   "source": [
    "## Подготовка к расчёту прибыли"
   ]
  },
  {
   "cell_type": "code",
   "execution_count": 7,
   "id": "823b68d1",
   "metadata": {},
   "outputs": [
    {
     "name": "stdout",
     "output_type": "stream",
     "text": [
      "Достаточный объём сырья для безубыточной разработки новой скважины: 111.11 тыс.баррелей\n",
      "Средний запас сырья для региона 0: 92.5 тыс.баррелей\n",
      "Средний запас сырья для региона 1: 68.83 тыс.баррелей\n",
      "Средний запас сырья для региона 2: 95.0 тыс.баррелей\n"
     ]
    }
   ],
   "source": [
    "# Бюджет на разработку скважин в регионе, тыс.р.\n",
    "budget = 10000000\n",
    "# Доход с 1000 баррелей, тыс. р.\n",
    "income = 450\n",
    "# Вероятность убытков\n",
    "p_loss = 2.5/100\n",
    "# Средний запас сырья для 1,2 и 3 региона, тыс. баррелей.\n",
    "average_volume_0 = data_0['product'].mean()\n",
    "average_volume_1 = data_1['product'].mean()\n",
    "average_volume_2 = data_2['product'].mean()\n",
    "# Бюджет на разработку 1 скважины, тыс.р.\n",
    "budget_for_one = budget/200\n",
    "# Достаточный объём сырья для безубыточной разработки новой скважины, тыс.баррелей.\n",
    "break_even_volume = budget_for_one/income\n",
    "print('Достаточный объём сырья для безубыточной разработки новой скважины:',round(break_even_volume,2), 'тыс.баррелей')\n",
    "print('Средний запас сырья для региона 0:',round(average_volume_0,2), 'тыс.баррелей')\n",
    "print('Средний запас сырья для региона 1:',round(average_volume_1,2), 'тыс.баррелей')\n",
    "print('Средний запас сырья для региона 2:',round(average_volume_2,2), 'тыс.баррелей')"
   ]
  },
  {
   "cell_type": "markdown",
   "id": "07710fd0",
   "metadata": {},
   "source": [
    "<div class=\"alert alert-block alert-info\">\n",
    "    \n",
    "**КОММЕНТАРИЙ СТУДЕНТА 1:**\n",
    "    \n",
    "**Вывод:**\n",
    "    \n",
    "- В каждом регионе средний запас сырья меньше, чем достаточный объём для безубыточной разработки новой скважины, но наибольший средний запас сырья в Регионе 2: 95.0 тыс.баррелей.\n",
    "    \n",
    "</div>"
   ]
  },
  {
   "cell_type": "markdown",
   "id": "0c73b207",
   "metadata": {},
   "source": [
    "## Функция для расчёта прибыли"
   ]
  },
  {
   "cell_type": "code",
   "execution_count": 8,
   "id": "1701bc6b",
   "metadata": {},
   "outputs": [
    {
     "name": "stdout",
     "output_type": "stream",
     "text": [
      "Прибыль: 4.0 млрд.рублей\n",
      "Прибыль: 2.49 млрд.рублей\n",
      "Прибыль: 3.32 млрд.рублей\n"
     ]
    }
   ],
   "source": [
    "# Напишем функцию для расчёта прибыли по выбранным скважинам и предсказаниям модели:\n",
    "def region_profit(data):\n",
    "    # Я разбиваю данные на обучающую и валидационную выборки\n",
    "    train_data, valid_data = train_test_split(data, test_size=0.25, random_state=12345)\n",
    "    # Я создаю объект линейной регрессии\n",
    "    model=LinearRegression()\n",
    "    # Я обучаю модель на обучающей выборке\n",
    "    features_train = train_data.drop(['id', 'product'], axis=1)\n",
    "    target_train = train_data['product']\n",
    "    model.fit(features_train, target_train)\n",
    "    # Я делаю предсказания на валидационной выборке\n",
    "    features_valid = valid_data.drop(['id', 'product'], axis=1)\n",
    "    target_valid = valid_data['product']\n",
    "    predictions = model.predict(features_valid)\n",
    "    # Я отсортирую предсказанные значения объёма сырья по убыванию:\n",
    "    sorted_predictions = sorted(predictions, reverse=True)\n",
    "    # Я выберу первые 200 значений:\n",
    "    top_200 = sorted_predictions[:200]\n",
    "    # Я просуммирую значения объёма сырья, тыс. баррелей:\n",
    "    top_200_sum = sum(top_200)\n",
    "    # Я посчитаю прибыль, тыс. рублей:\n",
    "    total_income = top_200_sum * income\n",
    "    profit = total_income - budget\n",
    "    return round(profit/1000/1000,2)\n",
    "\n",
    "# Прибыль для Региона 0, млрд. рублей:\n",
    "print('Прибыль:',round(region_profit(data_0),2), \"млрд.рублей\")\n",
    "\n",
    "# Прибыль для Региона 1, тыс. рублей:\n",
    "print('Прибыль:',round(region_profit(data_1),2), \"млрд.рублей\")\n",
    "\n",
    "# Прибыль для Региона 2, тыс. рублей:\n",
    "print('Прибыль:',round(region_profit(data_2),2), \"млрд.рублей\")\n"
   ]
  },
  {
   "cell_type": "markdown",
   "id": "2abd5faf",
   "metadata": {},
   "source": [
    "<div class=\"alert alert-block alert-info\">\n",
    "    \n",
    "**КОММЕНТАРИЙ СТУДЕНТА 2:**\n",
    "    \n",
    "**Вывод:**\n",
    "    \n",
    "- Я написал функцию region_profit, которая на вход принимает данные геологоразведки для трёх регионов, а на выходе возвращает прибыль в млрд. рублей.\n",
    "- Наибольшая прибыль в Регионе 0 составляет 14.0 млрд.рублей.\n",
    "        \n",
    "</div>"
   ]
  },
  {
   "cell_type": "markdown",
   "id": "cd7b8bad",
   "metadata": {},
   "source": [
    "## Расчёт прибыли и рисков "
   ]
  },
  {
   "cell_type": "code",
   "execution_count": 9,
   "id": "5c94f345",
   "metadata": {},
   "outputs": [],
   "source": [
    "# Напишем функцию revenue для расчёта прибыли на основе фактических и прогнозируемых значений\n",
    "def revenue(target, predictions, count):\n",
    "    # Я сортирую предсказания по убыванию\n",
    "    predictions_sorted = pd.Series(predictions).sort_values(ascending=False)\n",
    "    # Индексы отсортированных значений predictions_sorted используются для выбора соответствующих фактических результатов из target\n",
    "    top_count = target[predictions_sorted.index][:count]\n",
    "    # Я считаю суммарный объём запасов в скважинах, тыс. баррелей\n",
    "    total_volume = top_count.sum()\n",
    "    # Я считаю общий доход от продаж, тыс.рублей\n",
    "    revenue = total_volume * income\n",
    "    total_revenue = revenue - budget\n",
    "    return total_revenue\n",
    "\n",
    "# Напишем функцию profit_by_region для оценки распределения прибыли в разных регионах с помощью 1000 выборок.\n",
    "def profit_by_region(target,predictions):\n",
    "    results = []\n",
    "    negative_profit_count=0\n",
    "    # Я создаю объект генератора случайных чисел\n",
    "    state = np.random.RandomState(12345)\n",
    "    # Я создаю pd.Series с предсказанными значениями с индексами, соответствующими индексам целевого признака target\n",
    "    predicted_values_by_target_index = pd.Series(predictions, index=target.index)\n",
    "    \n",
    "    for i in range(1000):\n",
    "        # Случайная выборка 500 объектов из целевого признака target с возвращением (replace=True).\n",
    "        target_subsample = target.sample(n=500,replace=True, random_state=state)\n",
    "        # Выбор подмножества прогнозов для объектов из target_subsample\n",
    "        probs_subsample = predicted_values_by_target_index[target_subsample.index]\n",
    "        # Вычисление прибыли для данной выборки и добавление ее значения в список results\n",
    "        results.append(revenue(target_subsample, probs_subsample, 200))  \n",
    "    for i in results:\n",
    "        if i < 0:\n",
    "            negative_profit_count +=1\n",
    "            \n",
    "    results = pd.Series(results)\n",
    "    mean = results.mean()\n",
    "    confidence_interval = st.t.interval(0.95, len(results)-1, results.mean(), results.sem())\n",
    "    \n",
    "    plt.title('Распределение прибыли')\n",
    "    results.plot(kind=\"hist\", grid=True, figsize=(8,5))\n",
    "    plt.xlabel('Прибыль, тыс.руб')\n",
    "    plt.ylabel('Количество')\n",
    "    plt.show()\n",
    "    \n",
    "    low_95 = results.quantile(0.025)\n",
    "    high_95 = results.quantile(0.975)\n",
    "    \n",
    "    print(\"Средняя прибыль: {:.2f} млн.руб\".format(mean/1000))\n",
    "    print('С вероятностью 95% прибыль в данном регионе будет составлять от: {:.2f} млн.руб до: {:.2f} млн.руб'.format((low_95/1000),(high_95/1000)))\n",
    "    print(\"95%-ый доверительный интервал: от {:.2f} млн.руб до {:.2f} млн.руб\". format((confidence_interval[0]/1000),(confidence_interval[1]/1000)))\n",
    "    print('Процент вероятности убытка в данном регионе составит {:.1%}'.format(negative_profit_count/1000))\n"
   ]
  },
  {
   "cell_type": "code",
   "execution_count": 10,
   "id": "6f07558c",
   "metadata": {},
   "outputs": [
    {
     "data": {
      "image/png": "[encoded data removed]",
      "text/plain": [
       "<Figure size 800x500 with 1 Axes>"
      ]
     },
     "metadata": {},
     "output_type": "display_data"
    },
    {
     "name": "stdout",
     "output_type": "stream",
     "text": [
      "Средняя прибыль: 425.94 млн.руб\n",
      "С вероятностью 95% прибыль в данном регионе будет составлять от: -102.09 млн.руб до: 947.98 млн.руб\n",
      "95%-ый доверительный интервал: от 408.73 млн.руб до 443.14 млн.руб\n",
      "Процент вероятности убытка в данном регионе составит 6.0%\n"
     ]
    }
   ],
   "source": [
    "# Используем функцию profit_by_region для оценки распределения прибыли в Регионе 0\n",
    "profit_by_region(target_valid_0, predictions_0)"
   ]
  },
  {
   "cell_type": "code",
   "execution_count": 11,
   "id": "b64b3482",
   "metadata": {},
   "outputs": [
    {
     "data": {
      "image/png": "[encoded data removed]",
      "text/plain": [
       "<Figure size 800x500 with 1 Axes>"
      ]
     },
     "metadata": {},
     "output_type": "display_data"
    },
    {
     "name": "stdout",
     "output_type": "stream",
     "text": [
      "Средняя прибыль: 515.22 млн.руб\n",
      "С вероятностью 95% прибыль в данном регионе будет составлять от: 68.87 млн.руб до: 931.55 млн.руб\n",
      "95%-ый доверительный интервал: от 501.62 млн.руб до 528.82 млн.руб\n",
      "Процент вероятности убытка в данном регионе составит 1.0%\n"
     ]
    }
   ],
   "source": [
    "# Используем функцию profit_by_region для оценки распределения прибыли в Регионе 1\n",
    "profit_by_region(target_valid_1,predictions_1)"
   ]
  },
  {
   "cell_type": "code",
   "execution_count": 12,
   "id": "2e6856f7",
   "metadata": {},
   "outputs": [
    {
     "data": {
      "image/png": "[encoded data removed]",
      "text/plain": [
       "<Figure size 800x500 with 1 Axes>"
      ]
     },
     "metadata": {},
     "output_type": "display_data"
    },
    {
     "name": "stdout",
     "output_type": "stream",
     "text": [
      "Средняя прибыль: 435.01 млн.руб\n",
      "С вероятностью 95% прибыль в данном регионе будет составлять от: -128.88 млн.руб до: 969.71 млн.руб\n",
      "95%-ый доверительный интервал: от 417.45 млн.руб до 452.56 млн.руб\n",
      "Процент вероятности убытка в данном регионе составит 6.4%\n"
     ]
    }
   ],
   "source": [
    "# Используем функцию profit_by_region для оценки распределения прибыли в Регионе 2\n",
    "profit_by_region(target_valid_2,predictions_2)"
   ]
  },
  {
   "cell_type": "markdown",
   "id": "bfffd586",
   "metadata": {},
   "source": [
    "<div class=\"alert alert-block alert-info\">\n",
    "    \n",
    "**КОММЕНТАРИЙ СТУДЕНТА 2:**\n",
    "    \n",
    "**Вывод:**\n",
    "    \n",
    "- Наибольшая средняя прибыль в Регионе 1: 515.22 млн.руб\n",
    "- Наименьший процент вероятности убытка также в Регионе 1: 1.0%   \n",
    "    \n",
    "</div>"
   ]
  },
  {
   "cell_type": "markdown",
   "id": "f565ff43",
   "metadata": {},
   "source": [
    "<div class=\"alert alert-block alert-info\">\n",
    "    \n",
    "**КОММЕНТАРИЙ СТУДЕНТА 2:**\n",
    "    \n",
    "**Общий вывод:**\n",
    "    \n",
    "- Я загрузил и подготовил данные:\n",
    "            \n",
    "    - Я провел проверку на пропущенные значения - пропущенных значений нет\n",
    "    - Преобразование типов данных не требуется, так как у нас столбец id имеет строковый формат, а остальные значения float    \n",
    "    - Я провел проверку на наличие дубликатов - дубликатов нет\n",
    "    - Я построил корреляционную матрицу и выяснил, что есть незначительная корреляция между столбцами product и f2 (0.533554), но в целом, сильной корреляции между значениями нет             \n",
    "         \n",
    "- Я обучил и проверил модель:\n",
    "            \n",
    "    - Я написал функцию для анализа регионов region_analysis, которая на вход принимает датафрейм с данными региона, а возвращает средний запас предсказанного сырья и RMSE модели\n",
    "    - Я подставил в функцию region_analysis данные для разных регионов data_0, data_1, data_2 и получил для каждого региона средний запас предсказанного сырья и RMSE модели\n",
    "    - Я выяснил, что средний запас предсказанного сырья больше всего в Регионе 2 (94.97 тыс.баррелей) \n",
    "    - RMSE модели наименьшее в Регионе 1 (0.8930992867756178), что свидетельствует о высокой точности модели в данном регионе   \n",
    "             \n",
    "        \n",
    "- Я произвел подготовку к расчёту прибыли:\n",
    "            \n",
    "    - Я выяснил, что в каждом регионе средний запас сырья меньше, чем достаточный объём для безубыточной разработки новой скважины, но наибольший средний запас сырья в Регионе 2: 95.0 тыс.баррелей\n",
    "            \n",
    "        \n",
    "- Я написал функцию для расчёта прибыли:\n",
    "            \n",
    "    - Я написал функцию region_profit, которая на вход принимает данные геологоразведки для трёх регионов, a на выходе возвращает прибыль в млрд. рублей \n",
    "    - Наибольшая прибыль в Регионе 0 составляет 4.0 млрд.рублей             \n",
    "        \n",
    "- Я рассчитал прибыли и риски:\n",
    "            \n",
    "    - Я написал функцию revenue, которая на вход принимает фактические target и прогнозируемые predictions значения, а также их количество count. А на выходе получаем общий доход от продаж total_revenue \n",
    "    - Я написал функцию profit_by_region, которая на вход принимает фактические target и прогнозируемые predictions значения. И с помощью Bootsrap делается 500 выборок из фактических и предсказанных значений, которые подставляются в функцию revenue и общий доход от продаж total_revenue добавляется в список results. На основе этих результатов results я подсчитал количество отрицательных значений прибыли (убытков) negative_profit_count. Получаем среднюю прибыль mean, доверительный интервал confidence_interval. Строим гистограмму распределения прибыли. Вычисляем нижнюю low_95 и верхнюю high_95 границы доверительного интервала       \n",
    "    - Я подставил в функцию profit_by_region значения для каждого региона \n",
    "    - Наибольшая средняя прибыль в Регионе 1: 515.22 млн.руб\n",
    "    - Наименьший процент вероятности убытка также в Регионе 1: 1.0%          \n",
    "    \n",
    "</div>"
   ]
  },
  {
   "cell_type": "code",
   "execution_count": null,
   "id": "8db48557",
   "metadata": {},
   "outputs": [],
   "source": []
  }
 ],
 "metadata": {
  "ExecuteTimeLog": [
   {
    "duration": 50,
    "start_time": "2023-03-07T10:00:10.320Z"
   },
   {
    "duration": 9,
    "start_time": "2023-03-07T10:00:12.118Z"
   },
   {
    "duration": 3432,
    "start_time": "2023-03-07T10:00:15.924Z"
   },
   {
    "duration": 877,
    "start_time": "2023-03-07T10:00:19.358Z"
   },
   {
    "duration": 40,
    "start_time": "2023-03-07T10:00:20.236Z"
   },
   {
    "duration": 20,
    "start_time": "2023-03-07T10:00:21.744Z"
   },
   {
    "duration": 11,
    "start_time": "2023-03-07T10:00:26.530Z"
   },
   {
    "duration": 3705,
    "start_time": "2023-03-08T19:31:02.290Z"
   },
   {
    "duration": 1054,
    "start_time": "2023-03-08T19:31:05.998Z"
   },
   {
    "duration": 324,
    "start_time": "2023-03-08T19:31:07.054Z"
   },
   {
    "duration": 4,
    "start_time": "2023-03-08T19:31:07.381Z"
   },
   {
    "duration": 28,
    "start_time": "2023-03-08T19:31:07.387Z"
   },
   {
    "duration": 37,
    "start_time": "2023-03-08T19:31:07.417Z"
   },
   {
    "duration": 48,
    "start_time": "2023-03-08T19:31:07.455Z"
   },
   {
    "duration": 471,
    "start_time": "2023-03-08T19:31:07.505Z"
   },
   {
    "duration": 17,
    "start_time": "2023-03-08T19:31:23.241Z"
   },
   {
    "duration": 5,
    "start_time": "2023-03-08T19:31:53.184Z"
   },
   {
    "duration": 478,
    "start_time": "2023-03-08T19:31:53.384Z"
   }
  ],
  "kernelspec": {
   "display_name": "Python 3 (ipykernel)",
   "language": "python",
   "name": "python3"
  },
  "language_info": {
   "codemirror_mode": {
    "name": "ipython",
    "version": 3
   },
   "file_extension": ".py",
   "mimetype": "text/x-python",
   "name": "python",
   "nbconvert_exporter": "python",
   "pygments_lexer": "ipython3",
   "version": "3.11.3"
  },
  "toc": {
   "base_numbering": 1,
   "nav_menu": {},
   "number_sections": true,
   "sideBar": true,
   "skip_h1_title": true,
   "title_cell": "Table of Contents",
   "title_sidebar": "Contents",
   "toc_cell": false,
   "toc_position": {},
   "toc_section_display": true,
   "toc_window_display": false
  }
 },
 "nbformat": 4,
 "nbformat_minor": 5
}
